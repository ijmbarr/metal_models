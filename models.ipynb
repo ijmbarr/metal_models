{
 "cells": [
  {
   "cell_type": "code",
   "execution_count": 1,
   "metadata": {
    "collapsed": false
   },
   "outputs": [
    {
     "name": "stderr",
     "output_type": "stream",
     "text": [
      "Using Theano backend.\n"
     ]
    }
   ],
   "source": [
    "from metal_models import models"
   ]
  },
  {
   "cell_type": "markdown",
   "metadata": {},
   "source": [
    "# Using the metal models\n",
    "\n",
    "Here are a few quick examples of how to generate text from the models.\n",
    "\n",
    "## Markov Metal Machines\n",
    "\n",
    "Using the models is straight forward. Load each model, and point them towards where the model is stored:"
   ]
  },
  {
   "cell_type": "code",
   "execution_count": 2,
   "metadata": {
    "collapsed": false
   },
   "outputs": [],
   "source": [
    "mmc = models.MarkovMetalMachineCharacters(\"models/mc_5_c.json\")\n",
    "mmw = models.MarkovMetalMachineWords(\"models/mc_3_w.json\")"
   ]
  },
  {
   "cell_type": "markdown",
   "metadata": {},
   "source": [
    "Generating text from them is simply a matter of calling the generate() method:"
   ]
  },
  {
   "cell_type": "code",
   "execution_count": 3,
   "metadata": {
    "collapsed": false,
    "scrolled": true
   },
   "outputs": [
    {
     "name": "stdout",
     "output_type": "stream",
     "text": [
      "i'm like a holes the same\n",
      "\n",
      "follow the devils will but i need her tongue\n",
      "tales from me\n",
      "\n",
      "we're hearts\n",
      "my erection\n",
      "it is\n",
      "again the world\n",
      "\n",
      "i don't matter gates that bleeding nowhere to understand won't let me she is ride\n",
      "\n",
      "he's drnk a thing to the garden, they are only drop to an expect what keeps to whe\n"
     ]
    }
   ],
   "source": [
    "print(mmc.generate(n=300, T=0.9))"
   ]
  },
  {
   "cell_type": "code",
   "execution_count": 4,
   "metadata": {
    "collapsed": false
   },
   "outputs": [
    {
     "name": "stdout",
     "output_type": "stream",
     "text": [
      "i can see you\n",
      "running through your life\n",
      "you are the fatalist\n",
      "the day that you were made to suffocate me at birth.\n",
      "we are gonna kick\n",
      "walls are gonna break\n",
      "broken fingernails\n",
      "digging in, scratch my face\n",
      "and raging orcs will set their traps\n",
      "and all the tears i've cried\n",
      "unto the highest self--to live my life-i'll take what is mine\n",
      "come seeking treasure\n",
      "without a name\n",
      "\" abigail you must rest in shame \" rest in shame \" \n"
     ]
    }
   ],
   "source": [
    "print(mmw.generate(n=100, T=0.9))"
   ]
  },
  {
   "cell_type": "markdown",
   "metadata": {},
   "source": [
    "Some care has to be taken when using the \"seed\" option in the generate method. For all models, you can only include lower case characters and some punctuation. For markov models, there is no smoothing. This means if the seed isn't included in the model, it will throw an error.\n",
    "\n",
    "For example:"
   ]
  },
  {
   "cell_type": "code",
   "execution_count": 5,
   "metadata": {
    "collapsed": false
   },
   "outputs": [
    {
     "name": "stdout",
     "output_type": "stream",
     "text": [
      "i left alone my mind was blank rocks at the night\n",
      "wrapped the man half\n",
      "\n",
      "hail on\n",
      "worship\n",
      "i give me on-points to violence i despair\n",
      "\n"
     ]
    }
   ],
   "source": [
    "# This works\n",
    "print(mmc.generate(n=100, seed=\"i left alone my mind was blank\"))"
   ]
  },
  {
   "cell_type": "code",
   "execution_count": 8,
   "metadata": {
    "collapsed": false
   },
   "outputs": [
    {
     "ename": "KeyError",
     "evalue": "'BLANK'",
     "output_type": "error",
     "traceback": [
      "\u001b[1;31m---------------------------------------------------------------------------\u001b[0m",
      "\u001b[1;31mKeyError\u001b[0m                                  Traceback (most recent call last)",
      "\u001b[1;32m<ipython-input-8-709727bbdc13>\u001b[0m in \u001b[0;36m<module>\u001b[1;34m()\u001b[0m\n\u001b[0;32m      1\u001b[0m \u001b[1;31m# This throws an error because it uses upper case letters\u001b[0m\u001b[1;33m\u001b[0m\u001b[1;33m\u001b[0m\u001b[0m\n\u001b[1;32m----> 2\u001b[1;33m \u001b[0mprint\u001b[0m\u001b[1;33m(\u001b[0m\u001b[0mmmc\u001b[0m\u001b[1;33m.\u001b[0m\u001b[0mgenerate\u001b[0m\u001b[1;33m(\u001b[0m\u001b[0mn\u001b[0m\u001b[1;33m=\u001b[0m\u001b[1;36m100\u001b[0m\u001b[1;33m,\u001b[0m \u001b[0mseed\u001b[0m\u001b[1;33m=\u001b[0m\u001b[1;34m\"I left alone my mind was BLANK\"\u001b[0m\u001b[1;33m)\u001b[0m\u001b[1;33m)\u001b[0m\u001b[1;33m\u001b[0m\u001b[0m\n\u001b[0m",
      "\u001b[1;32m/home/ijmbarr/Documents/projects/metal_lyrics/metal_model_deploy/metal_models/metal_models/models.py\u001b[0m in \u001b[0;36mgenerate\u001b[1;34m(self, n, seed, T)\u001b[0m\n\u001b[0;32m     75\u001b[0m         \u001b[1;32mfor\u001b[0m \u001b[0mi\u001b[0m \u001b[1;32min\u001b[0m \u001b[0mrange\u001b[0m\u001b[1;33m(\u001b[0m\u001b[0mn\u001b[0m\u001b[1;33m)\u001b[0m\u001b[1;33m:\u001b[0m\u001b[1;33m\u001b[0m\u001b[0m\n\u001b[0;32m     76\u001b[0m             \u001b[0mcurrent_state\u001b[0m \u001b[1;33m=\u001b[0m \u001b[0mself\u001b[0m\u001b[1;33m.\u001b[0m\u001b[0mlast\u001b[0m\u001b[1;33m(\u001b[0m\u001b[0msequence\u001b[0m\u001b[1;33m,\u001b[0m \u001b[0mself\u001b[0m\u001b[1;33m.\u001b[0m\u001b[0msize\u001b[0m\u001b[1;33m)\u001b[0m\u001b[1;33m\u001b[0m\u001b[0m\n\u001b[1;32m---> 77\u001b[1;33m             \u001b[0mpossible_tokens\u001b[0m \u001b[1;33m=\u001b[0m \u001b[0mtuple\u001b[0m\u001b[1;33m(\u001b[0m\u001b[0mself\u001b[0m\u001b[1;33m.\u001b[0m\u001b[0mmodel\u001b[0m\u001b[1;33m[\u001b[0m\u001b[1;34m\"\"\u001b[0m\u001b[1;33m.\u001b[0m\u001b[0mjoin\u001b[0m\u001b[1;33m(\u001b[0m\u001b[0mcurrent_state\u001b[0m\u001b[1;33m)\u001b[0m\u001b[1;33m]\u001b[0m\u001b[1;33m.\u001b[0m\u001b[0mitems\u001b[0m\u001b[1;33m(\u001b[0m\u001b[1;33m)\u001b[0m\u001b[1;33m)\u001b[0m\u001b[1;33m\u001b[0m\u001b[0m\n\u001b[0m\u001b[0;32m     78\u001b[0m             \u001b[0mp\u001b[0m \u001b[1;33m=\u001b[0m \u001b[1;33m[\u001b[0m\u001b[0mx\u001b[0m\u001b[1;33m[\u001b[0m\u001b[1;36m1\u001b[0m\u001b[1;33m]\u001b[0m \u001b[1;32mfor\u001b[0m \u001b[0mx\u001b[0m \u001b[1;32min\u001b[0m \u001b[0mpossible_tokens\u001b[0m\u001b[1;33m]\u001b[0m\u001b[1;33m\u001b[0m\u001b[0m\n\u001b[0;32m     79\u001b[0m             \u001b[0mnext_token\u001b[0m \u001b[1;33m=\u001b[0m \u001b[0mpossible_tokens\u001b[0m\u001b[1;33m[\u001b[0m\u001b[0mself\u001b[0m\u001b[1;33m.\u001b[0m\u001b[0msample\u001b[0m\u001b[1;33m(\u001b[0m\u001b[0mp\u001b[0m\u001b[1;33m,\u001b[0m \u001b[0mT\u001b[0m\u001b[1;33m)\u001b[0m\u001b[1;33m]\u001b[0m\u001b[1;33m[\u001b[0m\u001b[1;36m0\u001b[0m\u001b[1;33m]\u001b[0m\u001b[1;33m\u001b[0m\u001b[0m\n",
      "\u001b[1;31mKeyError\u001b[0m: 'BLANK'"
     ]
    }
   ],
   "source": [
    "# This throws an error because it uses upper case letters\n",
    "print(mmc.generate(n=100, seed=\"I left alone my mind was BLANK\"))"
   ]
  },
  {
   "cell_type": "code",
   "execution_count": 10,
   "metadata": {
    "collapsed": false
   },
   "outputs": [
    {
     "ename": "KeyError",
     "evalue": "'suckz'",
     "output_type": "error",
     "traceback": [
      "\u001b[1;31m---------------------------------------------------------------------------\u001b[0m",
      "\u001b[1;31mKeyError\u001b[0m                                  Traceback (most recent call last)",
      "\u001b[1;32m<ipython-input-10-81533763085a>\u001b[0m in \u001b[0;36m<module>\u001b[1;34m()\u001b[0m\n\u001b[0;32m      1\u001b[0m \u001b[1;31m# This throws an error because the state isn't in the trained model\u001b[0m\u001b[1;33m\u001b[0m\u001b[1;33m\u001b[0m\u001b[0m\n\u001b[1;32m----> 2\u001b[1;33m \u001b[0mprint\u001b[0m\u001b[1;33m(\u001b[0m\u001b[0mmmc\u001b[0m\u001b[1;33m.\u001b[0m\u001b[0mgenerate\u001b[0m\u001b[1;33m(\u001b[0m\u001b[0mn\u001b[0m\u001b[1;33m=\u001b[0m\u001b[1;36m100\u001b[0m\u001b[1;33m,\u001b[0m \u001b[0mseed\u001b[0m\u001b[1;33m=\u001b[0m\u001b[1;34m\"metal suckz\"\u001b[0m\u001b[1;33m)\u001b[0m\u001b[1;33m)\u001b[0m\u001b[1;33m\u001b[0m\u001b[0m\n\u001b[0m",
      "\u001b[1;32m/home/ijmbarr/Documents/projects/metal_lyrics/metal_model_deploy/metal_models/metal_models/models.py\u001b[0m in \u001b[0;36mgenerate\u001b[1;34m(self, n, seed, T)\u001b[0m\n\u001b[0;32m     75\u001b[0m         \u001b[1;32mfor\u001b[0m \u001b[0mi\u001b[0m \u001b[1;32min\u001b[0m \u001b[0mrange\u001b[0m\u001b[1;33m(\u001b[0m\u001b[0mn\u001b[0m\u001b[1;33m)\u001b[0m\u001b[1;33m:\u001b[0m\u001b[1;33m\u001b[0m\u001b[0m\n\u001b[0;32m     76\u001b[0m             \u001b[0mcurrent_state\u001b[0m \u001b[1;33m=\u001b[0m \u001b[0mself\u001b[0m\u001b[1;33m.\u001b[0m\u001b[0mlast\u001b[0m\u001b[1;33m(\u001b[0m\u001b[0msequence\u001b[0m\u001b[1;33m,\u001b[0m \u001b[0mself\u001b[0m\u001b[1;33m.\u001b[0m\u001b[0msize\u001b[0m\u001b[1;33m)\u001b[0m\u001b[1;33m\u001b[0m\u001b[0m\n\u001b[1;32m---> 77\u001b[1;33m             \u001b[0mpossible_tokens\u001b[0m \u001b[1;33m=\u001b[0m \u001b[0mtuple\u001b[0m\u001b[1;33m(\u001b[0m\u001b[0mself\u001b[0m\u001b[1;33m.\u001b[0m\u001b[0mmodel\u001b[0m\u001b[1;33m[\u001b[0m\u001b[1;34m\"\"\u001b[0m\u001b[1;33m.\u001b[0m\u001b[0mjoin\u001b[0m\u001b[1;33m(\u001b[0m\u001b[0mcurrent_state\u001b[0m\u001b[1;33m)\u001b[0m\u001b[1;33m]\u001b[0m\u001b[1;33m.\u001b[0m\u001b[0mitems\u001b[0m\u001b[1;33m(\u001b[0m\u001b[1;33m)\u001b[0m\u001b[1;33m)\u001b[0m\u001b[1;33m\u001b[0m\u001b[0m\n\u001b[0m\u001b[0;32m     78\u001b[0m             \u001b[0mp\u001b[0m \u001b[1;33m=\u001b[0m \u001b[1;33m[\u001b[0m\u001b[0mx\u001b[0m\u001b[1;33m[\u001b[0m\u001b[1;36m1\u001b[0m\u001b[1;33m]\u001b[0m \u001b[1;32mfor\u001b[0m \u001b[0mx\u001b[0m \u001b[1;32min\u001b[0m \u001b[0mpossible_tokens\u001b[0m\u001b[1;33m]\u001b[0m\u001b[1;33m\u001b[0m\u001b[0m\n\u001b[0;32m     79\u001b[0m             \u001b[0mnext_token\u001b[0m \u001b[1;33m=\u001b[0m \u001b[0mpossible_tokens\u001b[0m\u001b[1;33m[\u001b[0m\u001b[0mself\u001b[0m\u001b[1;33m.\u001b[0m\u001b[0msample\u001b[0m\u001b[1;33m(\u001b[0m\u001b[0mp\u001b[0m\u001b[1;33m,\u001b[0m \u001b[0mT\u001b[0m\u001b[1;33m)\u001b[0m\u001b[1;33m]\u001b[0m\u001b[1;33m[\u001b[0m\u001b[1;36m0\u001b[0m\u001b[1;33m]\u001b[0m\u001b[1;33m\u001b[0m\u001b[0m\n",
      "\u001b[1;31mKeyError\u001b[0m: 'suckz'"
     ]
    }
   ],
   "source": [
    "# This throws an error because the state isn't in the trained model\n",
    "print(mmc.generate(n=100, seed=\"metal suckz\"))"
   ]
  },
  {
   "cell_type": "markdown",
   "metadata": {},
   "source": [
    "# Neural Models\n",
    "\n",
    "The neural net models work in a similar way to the Markov models, but do not throw an error when they get a strange seed"
   ]
  },
  {
   "cell_type": "code",
   "execution_count": 11,
   "metadata": {
    "collapsed": true
   },
   "outputs": [],
   "source": [
    "bb = models.BattleMetalBrain(\"models/nn/\")\n",
    "rrr = models.RecurrentRockRadio(\"models/rnn/\")"
   ]
  },
  {
   "cell_type": "code",
   "execution_count": 12,
   "metadata": {
    "collapsed": false
   },
   "outputs": [
    {
     "name": "stdout",
     "output_type": "stream",
     "text": [
      "i left alone, my mind was blankness passion sings the end of the last behind\n",
      "when i see the hearts the created the last of the sea line the way\n",
      "it's all the way hon her\n",
      "let last the whll the know where with the tears\n",
      "the undered an\n"
     ]
    }
   ],
   "source": [
    "print(bb.generate(n=200, seed=\"i left alone, my mind was blank\", T=0.8))"
   ]
  },
  {
   "cell_type": "code",
   "execution_count": 13,
   "metadata": {
    "collapsed": false
   },
   "outputs": [
    {
     "name": "stdout",
     "output_type": "stream",
     "text": [
      "i left alone, my mind was blank and forever\n",
      "it's where i'll never grow\n",
      "somewhere the curse is all a xark\n",
      "a fancy that been back\n",
      "when we lie through the night\n",
      "help me[END]\n"
     ]
    }
   ],
   "source": [
    "print(rrr.generate(n=200, seed=\"i left alone, my mind was blank\", T=0.8))"
   ]
  },
  {
   "cell_type": "markdown",
   "metadata": {},
   "source": [
    "## Band Style included\n",
    "\n",
    "The band style model can be used as the other models"
   ]
  },
  {
   "cell_type": "code",
   "execution_count": 14,
   "metadata": {
    "collapsed": false
   },
   "outputs": [
    {
     "name": "stdout",
     "output_type": "stream",
     "text": [
      "i left alone, my mind was blanking.\n",
      "and i know she decides\n",
      "but now you know that i'm cry down this way\n",
      "so i know who's see in blood\n",
      "\n",
      "won't rather beg here\n",
      "i want to see it, but i rule what you did to live\n",
      "did you think it's just a \n"
     ]
    }
   ],
   "source": [
    "rrrs = models.RecurrentRockRadioStyle(\"models/rnns/\")\n",
    "print(rrrs.generate(n=200, seed=\"i left alone, my mind was blank\", T=0.8))"
   ]
  },
  {
   "cell_type": "markdown",
   "metadata": {
    "collapsed": false
   },
   "source": [
    "However, it also accepts an interger value for band, which allows you to choose the style of the band you want to generate from"
   ]
  },
  {
   "cell_type": "code",
   "execution_count": 15,
   "metadata": {
    "collapsed": false
   },
   "outputs": [
    {
     "name": "stdout",
     "output_type": "stream",
     "text": [
      "i left alone, my mind was blank\n",
      "just to feel so cold\n",
      "now it's time for you\n",
      "this is not enough\n",
      "it might be foreseen\n",
      "\n",
      "theur march for reason can follow his mind.\n",
      "\n",
      "i feel no longer when i want to be\n",
      "i have to take us off him where the\n"
     ]
    }
   ],
   "source": [
    "print(rrrs.generate(n=200, seed=\"i left alone, my mind was blank\", T=0.8, band=53))"
   ]
  },
  {
   "cell_type": "markdown",
   "metadata": {},
   "source": [
    "To find out which integer refers to which band, look in the band_to_idx field of the model:"
   ]
  },
  {
   "cell_type": "code",
   "execution_count": 16,
   "metadata": {
    "collapsed": false
   },
   "outputs": [
    {
     "data": {
      "text/plain": [
       "{'agnosticfront': 0,\n",
       " 'alicecooper': 1,\n",
       " 'allthatremains': 2,\n",
       " 'amonamarth': 3,\n",
       " 'annihilator': 4,\n",
       " 'anthrax': 5,\n",
       " 'archenemy': 6,\n",
       " 'asilaydying': 7,\n",
       " 'atreyu': 8,\n",
       " 'avengedsevenfold': 9,\n",
       " 'bathory': 10,\n",
       " 'behemoth': 11,\n",
       " 'biohazard': 12,\n",
       " 'blacklabelsociety': 13,\n",
       " 'blacksabbath': 14,\n",
       " 'blindguardian': 15,\n",
       " 'boltthrower': 16,\n",
       " 'brucedickinson': 17,\n",
       " 'bulletformyvalentine': 18,\n",
       " 'cannibalcorpse': 19,\n",
       " 'carcass': 20,\n",
       " 'childrenofbodom': 21,\n",
       " 'chimaira': 22,\n",
       " 'clutch': 23,\n",
       " 'cradleoffilth': 24,\n",
       " 'crowbar': 25,\n",
       " 'danzig': 26,\n",
       " 'darkthrone': 27,\n",
       " 'darktranquillity': 28,\n",
       " 'deftones': 29,\n",
       " 'deicide': 30,\n",
       " 'devildriver': 31,\n",
       " 'diamondhead': 32,\n",
       " 'dimmuborgir': 33,\n",
       " 'dio': 34,\n",
       " 'dreamtheater': 35,\n",
       " 'edguy': 36,\n",
       " 'emperor': 37,\n",
       " 'epica': 38,\n",
       " 'everytimeidie': 39,\n",
       " 'exodus': 40,\n",
       " 'faithnomore': 41,\n",
       " 'fearfactory': 42,\n",
       " 'fivefingerdeathpunch': 43,\n",
       " 'freedomcall': 44,\n",
       " 'gammaray': 45,\n",
       " 'hammerfall': 46,\n",
       " 'hatebreed': 47,\n",
       " 'helloween': 48,\n",
       " 'hypocrisy': 49,\n",
       " 'icedearth': 50,\n",
       " 'inflames': 51,\n",
       " 'ironmaiden': 52,\n",
       " 'ironsavior': 53,\n",
       " 'judaspriest': 54,\n",
       " 'kamelot': 55,\n",
       " 'killingjoke': 56,\n",
       " 'kingdiamond': 57,\n",
       " 'lacunacoil': 58,\n",
       " 'lambofgod': 59,\n",
       " 'lordi': 60,\n",
       " 'machinehead': 61,\n",
       " 'madball': 62,\n",
       " 'majesty': 63,\n",
       " 'manowar': 64,\n",
       " 'mastodon': 65,\n",
       " 'mayhem': 66,\n",
       " 'megadeth': 67,\n",
       " 'metalium': 68,\n",
       " 'metallica': 69,\n",
       " 'ministry': 70,\n",
       " 'monstermagnet': 71,\n",
       " 'moonspell': 72,\n",
       " 'morbidangel': 73,\n",
       " 'motleycrue': 74,\n",
       " 'motorhead': 75,\n",
       " 'napalmdeath': 76,\n",
       " 'nightfall': 77,\n",
       " 'nightwish': 78,\n",
       " 'nineinchnails': 79,\n",
       " 'null_band': 80,\n",
       " 'obituary': 81,\n",
       " 'opeth': 82,\n",
       " 'ozzyosbourne': 83,\n",
       " 'pantera': 84,\n",
       " 'paradiselost': 85,\n",
       " 'pigdestroyer': 86,\n",
       " 'primalfear': 87,\n",
       " 'queensryche': 88,\n",
       " 'quietriot': 89,\n",
       " 'rainbow': 90,\n",
       " 'rhapsody': 91,\n",
       " 'runningwild': 92,\n",
       " 'sabaton': 93,\n",
       " 'saxon': 94,\n",
       " 'sepultura': 95,\n",
       " 'shadowsfall': 96,\n",
       " 'skidrow': 97,\n",
       " 'skinnypuppy': 98,\n",
       " 'slayer': 99,\n",
       " 'slipknot': 100,\n",
       " 'soilwork': 101,\n",
       " 'sonataarctica': 102,\n",
       " 'soulfly': 103,\n",
       " 'soundgarden': 104,\n",
       " 'staticx': 105,\n",
       " 'stratovarius': 106,\n",
       " 'suicidaltendencies': 107,\n",
       " 'symphonyx': 108,\n",
       " 'testament': 109,\n",
       " 'therion': 110,\n",
       " 'tiamat': 111,\n",
       " 'trivium': 112,\n",
       " 'twistedsister': 113,\n",
       " 'unearth': 114,\n",
       " 'venom': 115,\n",
       " 'wasp': 116,\n",
       " 'withintemptation': 117,\n",
       " 'yngwiemalmsteen': 118}"
      ]
     },
     "execution_count": 16,
     "metadata": {},
     "output_type": "execute_result"
    }
   ],
   "source": [
    "rrrs.band_to_idx"
   ]
  }
 ],
 "metadata": {
  "kernelspec": {
   "display_name": "Python 3",
   "language": "python",
   "name": "python3"
  },
  "language_info": {
   "codemirror_mode": {
    "name": "ipython",
    "version": 3
   },
   "file_extension": ".py",
   "mimetype": "text/x-python",
   "name": "python",
   "nbconvert_exporter": "python",
   "pygments_lexer": "ipython3",
   "version": "3.5.1+"
  }
 },
 "nbformat": 4,
 "nbformat_minor": 0
}
